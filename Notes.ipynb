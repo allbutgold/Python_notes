{
 "cells": [
  {
   "cell_type": "markdown",
   "source": [
    "## **PYTHON NOTES**\n",
    "*python is case-sensitive*"
   ],
   "metadata": {
    "collapsed": false
   },
   "id": "61856b78153b62c"
  },
  {
   "cell_type": "markdown",
   "source": [
    "**Comments**\n"
   ],
   "metadata": {
    "collapsed": false
   },
   "id": "19bec477821af4b2"
  },
  {
   "cell_type": "code",
   "execution_count": 76,
   "outputs": [
    {
     "data": {
      "text/plain": "'\\nHello my name is:\\nwhat? \\nmy name is:\\nwho?\\nmy name is:\\nslim shady!\\n'"
     },
     "execution_count": 76,
     "metadata": {},
     "output_type": "execute_result"
    }
   ],
   "source": [
    "\"\"\"\n",
    "Hello my name is:\n",
    "what? \n",
    "my name is:\n",
    "who?\n",
    "my name is:\n",
    "slim shady!\n",
    "\"\"\"\n",
    "\n",
    "# comments on a single line"
   ],
   "metadata": {
    "collapsed": false,
    "ExecuteTime": {
     "end_time": "2023-09-22T11:31:14.317395600Z",
     "start_time": "2023-09-22T11:31:14.309596600Z"
    }
   },
   "id": "3b81d36874abe890"
  },
  {
   "cell_type": "markdown",
   "source": [
    "# **comparison Operators**\n",
    "**==** - gleich <br>\n",
    "**!=** - ungleich <br>\n",
    "**>** - größer <br>\n",
    "**<**  - kleiner <br>\n",
    "**>=** - größer oder gleich <br>\n",
    "**<=** - kleiner oder gleich <br>   "
   ],
   "metadata": {
    "collapsed": false
   },
   "id": "8ea4f564532ce0a6"
  },
  {
   "cell_type": "code",
   "execution_count": 44,
   "outputs": [
    {
     "name": "stdout",
     "output_type": "stream",
     "text": [
      "False\n",
      "True\n",
      "True\n",
      "False\n"
     ]
    }
   ],
   "source": [
    "print(2 == '2') #False\n",
    "print(2 == 2) #True\n",
    "print(4 > 2) #True\n",
    "print(4 < 2) #False"
   ],
   "metadata": {
    "collapsed": false,
    "ExecuteTime": {
     "end_time": "2023-09-22T09:36:09.149297800Z",
     "start_time": "2023-09-22T09:36:09.081227Z"
    }
   },
   "id": "b68301a4d1718846"
  },
  {
   "cell_type": "code",
   "execution_count": null,
   "outputs": [],
   "source": [],
   "metadata": {
    "collapsed": false
   },
   "id": "ae754e9f770fe742"
  },
  {
   "cell_type": "markdown",
   "source": [
    "# **Variables**\n",
    " use  **Snake case**\n",
    "*Snake case (stylized as snake_case) is the style of writing in which each space is replaced with an underscore (_) character, and the first letter of each word is written in lowercase.*\n",
    "\n",
    "cannot start with a number\n",
    "cannot contain whitespace\n",
    "\n"
   ],
   "metadata": {
    "collapsed": false
   },
   "id": "df9380f7aea44970"
  },
  {
   "cell_type": "code",
   "execution_count": 45,
   "outputs": [
    {
     "name": "stdout",
     "output_type": "stream",
     "text": [
      "11.5\n",
      "11.5\n",
      "<class 'float'>\n",
      "I am the content\n"
     ]
    }
   ],
   "source": [
    "var_test = 'I am the content'\n",
    "var_again = 'I am god'\n",
    "a = 10\n",
    "b = 1.5\n",
    "\n",
    "erg = a + b\n",
    "\n",
    "print(erg)\n",
    "print(str(erg))\n",
    "print(type(erg)) #print the type of erg\n",
    "print(var_test)"
   ],
   "metadata": {
    "collapsed": false,
    "ExecuteTime": {
     "end_time": "2023-09-22T09:36:09.151298200Z",
     "start_time": "2023-09-22T09:36:09.094757100Z"
    }
   },
   "id": "184e02c0b52c9e2b"
  },
  {
   "cell_type": "markdown",
   "source": [],
   "metadata": {
    "collapsed": false
   },
   "id": "6039bc68f9c37a02"
  },
  {
   "cell_type": "markdown",
   "source": [
    "# Input()\n",
    "input will be a string and might need to be converted to use the variables\n",
    "Request a user input to fill a variable with a custom value (string)\n",
    "comma will create a whitespace"
   ],
   "metadata": {
    "collapsed": false
   },
   "id": "cb773b61f1e1cf4e"
  },
  {
   "cell_type": "code",
   "execution_count": 48,
   "outputs": [
    {
     "name": "stdout",
     "output_type": "stream",
     "text": [
      "The result of 54 + 645 equals:  699.0\n"
     ]
    }
   ],
   "source": [
    "num1 = input(\"please enter number here: \") # input will be saved as a string \n",
    "num2 = input('please enter a second number: ')\n",
    "erg = float(num1) + float(num2) #conver strings to floats in oder to calculate \n",
    "\n",
    "print('The result of', num1, '+', num2, 'equals: ', erg )"
   ],
   "metadata": {
    "collapsed": false,
    "ExecuteTime": {
     "end_time": "2023-09-22T09:37:04.832908500Z",
     "start_time": "2023-09-22T09:37:01.445625300Z"
    }
   },
   "id": "a7b2d9c611f1ded7"
  },
  {
   "cell_type": "code",
   "execution_count": null,
   "outputs": [],
   "source": [
    "first_name = input('please enter your first name: ')\n",
    "last_name = input('please enter your last name: ')\n",
    "\n",
    "print('hello', first_name, last_name + '!') #comma will create a whitespace"
   ],
   "metadata": {
    "collapsed": false,
    "ExecuteTime": {
     "start_time": "2023-09-22T09:36:11.551437500Z"
    }
   },
   "id": "4dbc3f17c1fd997b"
  },
  {
   "cell_type": "markdown",
   "source": [
    "# Strings\n",
    "\n",
    "**f-Strings**\n",
    "exists only since python 3.6\n",
    "*Server will often run older stable versions. F-Strings might not yet work.*\n",
    "initiate f-string by add and **f** before the **\"\"**\n",
    "**\\n** will create a new line\n"
   ],
   "metadata": {
    "collapsed": false
   },
   "id": "b03d6344f3bfcea0"
  },
  {
   "cell_type": "code",
   "execution_count": 47,
   "outputs": [
    {
     "name": "stdout",
     "output_type": "stream",
     "text": [
      "Hallo Bibi und \n",
      "Tina\n",
      "BibiBibi\n"
     ]
    }
   ],
   "source": [
    "name1 = 'Bibi'\n",
    "name2 = 'Tina'\n",
    "\n",
    "print(f\"Hallo {name1} und \\n{name2}\")  #'f' initiates the f-string\n",
    "print(f\"{name1 * 2}\") # you can run operations in the {}\n",
    "\n"
   ],
   "metadata": {
    "collapsed": false,
    "ExecuteTime": {
     "end_time": "2023-09-22T09:36:48.189921800Z",
     "start_time": "2023-09-22T09:36:48.180364900Z"
    }
   },
   "id": "262da5908733a195"
  },
  {
   "cell_type": "markdown",
   "source": [
    "**Format Strings**\n",
    "format a string by adding a : after the variable, then a filler symbol like **#** followed by a **<** or **>** or **^** and a number"
   ],
   "metadata": {
    "collapsed": false
   },
   "id": "b0cea03e9a07ee2c"
  },
  {
   "cell_type": "code",
   "execution_count": null,
   "outputs": [],
   "source": [
    "text = 'python'\n",
    "print(f\"{text:#<20}\") #the string will have 20 characters. All left will be filled with #\n",
    "print(f'{text:#>20}')\n",
    "print(f'{text:#^20}')"
   ],
   "metadata": {
    "collapsed": false,
    "ExecuteTime": {
     "start_time": "2023-09-22T09:36:11.557423300Z"
    }
   },
   "id": "2877e03ebeebe03d"
  },
  {
   "cell_type": "markdown",
   "source": [
    "**Format floats in f-strings**"
   ],
   "metadata": {
    "collapsed": false
   },
   "id": "e273adbc3770806a"
  },
  {
   "cell_type": "code",
   "execution_count": 49,
   "outputs": [
    {
     "name": "stdout",
     "output_type": "stream",
     "text": [
      "You will receive 65.20 in change. Thank you for your purchase\n"
     ]
    }
   ],
   "source": [
    "amount = float(input('how many apples would you like to buy: '))\n",
    "price = 0.6\n",
    "money = float(input('please give me the money (enter amount): '))\n",
    "change = money - (amount * price)\n",
    "\n",
    "print(f\"You will receive {change:.2f} in change. Thank you for your purchase!\") # .2f creates to digits behind the comma"
   ],
   "metadata": {
    "collapsed": false,
    "ExecuteTime": {
     "end_time": "2023-09-22T09:37:18.907942700Z",
     "start_time": "2023-09-22T09:37:12.179343200Z"
    }
   },
   "id": "ff9ae779add850b1"
  },
  {
   "cell_type": "markdown",
   "source": [
    "**Special characters in strings**\n",
    "*using \\ we can 'escape' the interpretation of the special charter as code*"
   ],
   "metadata": {
    "collapsed": false
   },
   "id": "e4756c50799a5a91"
  },
  {
   "cell_type": "code",
   "execution_count": 53,
   "outputs": [
    {
     "name": "stdout",
     "output_type": "stream",
     "text": [
      "hello I am 'Leo'\n"
     ]
    }
   ],
   "source": [
    "print('hello I am \\'Leo\\'') # using \\ we can escape the interpretation of the charter as code"
   ],
   "metadata": {
    "collapsed": false,
    "ExecuteTime": {
     "end_time": "2023-09-22T10:03:07.115124900Z",
     "start_time": "2023-09-22T10:03:07.105076100Z"
    }
   },
   "id": "fb63d970494f65f4"
  },
  {
   "cell_type": "code",
   "execution_count": null,
   "outputs": [],
   "source": [],
   "metadata": {
    "collapsed": false
   },
   "id": "100aa093d50a1a19"
  },
  {
   "cell_type": "markdown",
   "source": [
    "**tabulator**\n",
    "\\t"
   ],
   "metadata": {
    "collapsed": false
   },
   "id": "f4d8d7850f4f5fd4"
  },
  {
   "cell_type": "code",
   "execution_count": 62,
   "outputs": [
    {
     "name": "stdout",
     "output_type": "stream",
     "text": [
      "to make a tab use \tlike this\n"
     ]
    }
   ],
   "source": [
    "print('to make a tab use \\tlike this')"
   ],
   "metadata": {
    "collapsed": false,
    "ExecuteTime": {
     "end_time": "2023-09-22T10:18:56.543525900Z",
     "start_time": "2023-09-22T10:18:56.531369800Z"
    }
   },
   "id": "f826caaf127b74a9"
  },
  {
   "cell_type": "markdown",
   "source": [
    "**new line**\n",
    "/n"
   ],
   "metadata": {
    "collapsed": false
   },
   "id": "94b1486b6dd05397"
  },
  {
   "cell_type": "code",
   "execution_count": 64,
   "outputs": [
    {
     "name": "stdout",
     "output_type": "stream",
     "text": [
      "first line \n",
      "second line\n"
     ]
    }
   ],
   "source": [
    "print('first line \\nsecond line')"
   ],
   "metadata": {
    "collapsed": false,
    "ExecuteTime": {
     "end_time": "2023-09-22T10:21:01.945299300Z",
     "start_time": "2023-09-22T10:21:01.936769300Z"
    }
   },
   "id": "d0b40858674839ff"
  },
  {
   "cell_type": "markdown",
   "source": [
    "**.format()**"
   ],
   "metadata": {
    "collapsed": false
   },
   "id": "1c4c78e1a704a9bd"
  },
  {
   "cell_type": "code",
   "execution_count": 75,
   "outputs": [
    {
     "name": "stdout",
     "output_type": "stream",
     "text": [
      "Nr. Servername         Serveradress             Port \n",
      "1.  teddy              teddy.com                6666 \n",
      "2.  mr.awesome         192.168.0.15             8898 \n"
     ]
    }
   ],
   "source": [
    "print('{0:<4}{1:<19}{2:<25}{3:<5}'.format(\"Nr.\", \"Servername\", \"Serveradress\", \"Port\"))\n",
    "print('{0:<4}{1:<19}{2:<25}{3:<5}'.format(\"1.\", \"teddy\", \"teddy.com\", \"6666\"))\n",
    "print('{0:<4}{1:<19}{2:<25}{3:<5}'.f`o`rmat(\"2.\", \"mr.awesome\", \"192.168.0.15\", \"8898\"))"
   ],
   "metadata": {
    "collapsed": false,
    "ExecuteTime": {
     "end_time": "2023-09-22T10:53:14.838741600Z",
     "start_time": "2023-09-22T10:53:14.830163700Z"
    }
   },
   "id": "8d87a04dde22cf87"
  }
 ],
 "metadata": {
  "kernelspec": {
   "display_name": "Python 3",
   "language": "python",
   "name": "python3"
  },
  "language_info": {
   "codemirror_mode": {
    "name": "ipython",
    "version": 2
   },
   "file_extension": ".py",
   "mimetype": "text/x-python",
   "name": "python",
   "nbconvert_exporter": "python",
   "pygments_lexer": "ipython2",
   "version": "2.7.6"
  }
 },
 "nbformat": 4,
 "nbformat_minor": 5
}
